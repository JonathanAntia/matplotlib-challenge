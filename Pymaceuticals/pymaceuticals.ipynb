{
 "cells": [
  {
   "cell_type": "markdown",
   "metadata": {},
   "source": [
    "## Observations and Insights "
   ]
  },
  {
   "cell_type": "markdown",
   "metadata": {},
   "source": []
  },
  {
   "cell_type": "code",
   "execution_count": 1,
   "metadata": {},
   "outputs": [],
   "source": [
    "# Dependencies and Setup\n",
    "import matplotlib.pyplot as plt\n",
    "import pandas as pd\n",
    "import scipy.stats as st\n",
    "\n",
    "# Study data files\n",
    "mouse_metadata_path = \"data/Mouse_metadata.csv\"\n",
    "study_results_path = \"data/Study_results.csv\"\n",
    "\n",
    "# Read the mouse data and the study results\n",
    "mouse_metadata = pd.read_csv(mouse_metadata_path)\n",
    "study_results = pd.read_csv(study_results_path)\n",
    "\n",
    "# Combine the data into a single dataset\n",
    "study_as_received = pd.merge(mouse_metadata,study_results, on='Mouse ID')"
   ]
  },
  {
   "cell_type": "code",
   "execution_count": 2,
   "metadata": {},
   "outputs": [
    {
     "data": {
      "text/plain": [
       "249"
      ]
     },
     "execution_count": 2,
     "metadata": {},
     "output_type": "execute_result"
    }
   ],
   "source": [
    "# Checking the number of mice in the DataFrame.\n",
    "num_mice =len(study_as_received['Mouse ID'].unique())\n",
    "num_mice"
   ]
  },
  {
   "cell_type": "code",
   "execution_count": 3,
   "metadata": {},
   "outputs": [],
   "source": [
    "# Getting the duplicate mice by ID number that shows up for Mouse ID and Timepoint\n",
    "duplicate_mice = study_as_received.duplicated(subset=['Mouse ID','Timepoint'], keep=False)"
   ]
  },
  {
   "cell_type": "code",
   "execution_count": 4,
   "metadata": {},
   "outputs": [],
   "source": [
    "# Get all the data for any duplicate mouse ID. \n",
    "duplicate_mice_data = study_as_received.loc[duplicate_mice,:]"
   ]
  },
  {
   "cell_type": "code",
   "execution_count": 5,
   "metadata": {},
   "outputs": [],
   "source": [
    "# Create a clean DataFrame by dropping the duplicate mouse by its ID. \n",
    "clean_study = study_as_received.drop_duplicates(subset=['Mouse ID','Timepoint'],keep='last')"
   ]
  },
  {
   "cell_type": "code",
   "execution_count": 6,
   "metadata": {},
   "outputs": [
    {
     "data": {
      "text/plain": [
       "249"
      ]
     },
     "execution_count": 6,
     "metadata": {},
     "output_type": "execute_result"
    }
   ],
   "source": [
    "# Checking the number of mice in the clean DataFrame.\n",
    "num_mice = len(clean_study['Mouse ID'].unique())\n",
    "num_mice"
   ]
  },
  {
   "cell_type": "markdown",
   "metadata": {},
   "source": [
    "## Summary Statistics"
   ]
  },
  {
   "cell_type": "code",
   "execution_count": 7,
   "metadata": {},
   "outputs": [
    {
     "data": {
      "text/html": [
       "<div>\n",
       "<style scoped>\n",
       "    .dataframe tbody tr th:only-of-type {\n",
       "        vertical-align: middle;\n",
       "    }\n",
       "\n",
       "    .dataframe tbody tr th {\n",
       "        vertical-align: top;\n",
       "    }\n",
       "\n",
       "    .dataframe thead th {\n",
       "        text-align: right;\n",
       "    }\n",
       "</style>\n",
       "<table border=\"1\" class=\"dataframe\">\n",
       "  <thead>\n",
       "    <tr style=\"text-align: right;\">\n",
       "      <th></th>\n",
       "      <th>Mean Tumor Volume (mm3)</th>\n",
       "      <th>Median Tumor Volume (mm3)</th>\n",
       "      <th>Tumor Volume Variance (mm3)</th>\n",
       "      <th>Tumor Volume Standard Deviation (mm3)</th>\n",
       "      <th>Tumor Volume Standard Errors (mm3)</th>\n",
       "    </tr>\n",
       "    <tr>\n",
       "      <th>Drug Regimen</th>\n",
       "      <th></th>\n",
       "      <th></th>\n",
       "      <th></th>\n",
       "      <th></th>\n",
       "      <th></th>\n",
       "    </tr>\n",
       "  </thead>\n",
       "  <tbody>\n",
       "    <tr>\n",
       "      <th>Capomulin</th>\n",
       "      <td>40.675741</td>\n",
       "      <td>41.557809</td>\n",
       "      <td>24.947764</td>\n",
       "      <td>4.994774</td>\n",
       "      <td>0.329346</td>\n",
       "    </tr>\n",
       "    <tr>\n",
       "      <th>Ceftamin</th>\n",
       "      <td>52.591172</td>\n",
       "      <td>51.776157</td>\n",
       "      <td>39.290177</td>\n",
       "      <td>6.268188</td>\n",
       "      <td>0.469821</td>\n",
       "    </tr>\n",
       "    <tr>\n",
       "      <th>Infubinol</th>\n",
       "      <td>52.884795</td>\n",
       "      <td>51.820584</td>\n",
       "      <td>43.128684</td>\n",
       "      <td>6.567243</td>\n",
       "      <td>0.492236</td>\n",
       "    </tr>\n",
       "    <tr>\n",
       "      <th>Ketapril</th>\n",
       "      <td>55.235638</td>\n",
       "      <td>53.698743</td>\n",
       "      <td>68.553577</td>\n",
       "      <td>8.279709</td>\n",
       "      <td>0.603860</td>\n",
       "    </tr>\n",
       "    <tr>\n",
       "      <th>Naftisol</th>\n",
       "      <td>54.331565</td>\n",
       "      <td>52.509285</td>\n",
       "      <td>66.173479</td>\n",
       "      <td>8.134708</td>\n",
       "      <td>0.596466</td>\n",
       "    </tr>\n",
       "    <tr>\n",
       "      <th>Placebo</th>\n",
       "      <td>54.033581</td>\n",
       "      <td>52.288934</td>\n",
       "      <td>61.168083</td>\n",
       "      <td>7.821003</td>\n",
       "      <td>0.581331</td>\n",
       "    </tr>\n",
       "    <tr>\n",
       "      <th>Propriva</th>\n",
       "      <td>52.382993</td>\n",
       "      <td>50.783528</td>\n",
       "      <td>43.220205</td>\n",
       "      <td>6.574208</td>\n",
       "      <td>0.526358</td>\n",
       "    </tr>\n",
       "    <tr>\n",
       "      <th>Ramicane</th>\n",
       "      <td>40.216745</td>\n",
       "      <td>40.673236</td>\n",
       "      <td>23.486704</td>\n",
       "      <td>4.846308</td>\n",
       "      <td>0.320955</td>\n",
       "    </tr>\n",
       "    <tr>\n",
       "      <th>Stelasyn</th>\n",
       "      <td>54.233149</td>\n",
       "      <td>52.431737</td>\n",
       "      <td>59.450562</td>\n",
       "      <td>7.710419</td>\n",
       "      <td>0.573111</td>\n",
       "    </tr>\n",
       "    <tr>\n",
       "      <th>Zoniferol</th>\n",
       "      <td>53.236507</td>\n",
       "      <td>51.818479</td>\n",
       "      <td>48.533355</td>\n",
       "      <td>6.966589</td>\n",
       "      <td>0.516398</td>\n",
       "    </tr>\n",
       "  </tbody>\n",
       "</table>\n",
       "</div>"
      ],
      "text/plain": [
       "              Mean Tumor Volume (mm3)  Median Tumor Volume (mm3)  \\\n",
       "Drug Regimen                                                       \n",
       "Capomulin                   40.675741                  41.557809   \n",
       "Ceftamin                    52.591172                  51.776157   \n",
       "Infubinol                   52.884795                  51.820584   \n",
       "Ketapril                    55.235638                  53.698743   \n",
       "Naftisol                    54.331565                  52.509285   \n",
       "Placebo                     54.033581                  52.288934   \n",
       "Propriva                    52.382993                  50.783528   \n",
       "Ramicane                    40.216745                  40.673236   \n",
       "Stelasyn                    54.233149                  52.431737   \n",
       "Zoniferol                   53.236507                  51.818479   \n",
       "\n",
       "              Tumor Volume Variance (mm3)  \\\n",
       "Drug Regimen                                \n",
       "Capomulin                       24.947764   \n",
       "Ceftamin                        39.290177   \n",
       "Infubinol                       43.128684   \n",
       "Ketapril                        68.553577   \n",
       "Naftisol                        66.173479   \n",
       "Placebo                         61.168083   \n",
       "Propriva                        43.220205   \n",
       "Ramicane                        23.486704   \n",
       "Stelasyn                        59.450562   \n",
       "Zoniferol                       48.533355   \n",
       "\n",
       "              Tumor Volume Standard Deviation (mm3)  \\\n",
       "Drug Regimen                                          \n",
       "Capomulin                                  4.994774   \n",
       "Ceftamin                                   6.268188   \n",
       "Infubinol                                  6.567243   \n",
       "Ketapril                                   8.279709   \n",
       "Naftisol                                   8.134708   \n",
       "Placebo                                    7.821003   \n",
       "Propriva                                   6.574208   \n",
       "Ramicane                                   4.846308   \n",
       "Stelasyn                                   7.710419   \n",
       "Zoniferol                                  6.966589   \n",
       "\n",
       "              Tumor Volume Standard Errors (mm3)  \n",
       "Drug Regimen                                      \n",
       "Capomulin                               0.329346  \n",
       "Ceftamin                                0.469821  \n",
       "Infubinol                               0.492236  \n",
       "Ketapril                                0.603860  \n",
       "Naftisol                                0.596466  \n",
       "Placebo                                 0.581331  \n",
       "Propriva                                0.526358  \n",
       "Ramicane                                0.320955  \n",
       "Stelasyn                                0.573111  \n",
       "Zoniferol                               0.516398  "
      ]
     },
     "execution_count": 7,
     "metadata": {},
     "output_type": "execute_result"
    }
   ],
   "source": [
    "# Generate a summary statistics table of mean, median, variance, standard deviation,\n",
    "# and SEM of the tumor volume for each regimen\n",
    "# This method is the most straightforward, creating multiple series and \n",
    "# putting them all together at the end.\n",
    "drug_regimen = clean_study.groupby(['Drug Regimen'])\n",
    "\n",
    "mean_volume = drug_regimen['Tumor Volume (mm3)'].mean()\n",
    "mean_volume = mean_volume.rename('Mean Tumor Volume (mm3)')\n",
    "\n",
    "median_volume = drug_regimen['Tumor Volume (mm3)'].median()\n",
    "median_volume = median_volume.rename('Median Tumor Volume (mm3)')\n",
    "                 \n",
    "var_volume = drug_regimen['Tumor Volume (mm3)'].var()\n",
    "var_volume = var_volume.rename('Tumor Volume Variance (mm3)')\n",
    "                 \n",
    "std_volume = drug_regimen['Tumor Volume (mm3)'].std()\n",
    "std_volume = std_volume.rename('Tumor Volume Standard Deviation (mm3)')\n",
    "                 \n",
    "sem_volume = drug_regimen['Tumor Volume (mm3)'].sem()\n",
    "sem_volume = sem_volume.rename('Tumor Volume Standard Errors (mm3)')\n",
    "                 \n",
    "# combine all statistical parameters into one data frame\n",
    "summary_stats_concat = pd.concat([mean_volume,median_volume,\n",
    "                             var_volume,std_volume,sem_volume],axis=1)\n",
    "summary_stats_concat"
   ]
  },
  {
   "cell_type": "code",
   "execution_count": 8,
   "metadata": {
    "scrolled": true
   },
   "outputs": [
    {
     "data": {
      "text/html": [
       "<div>\n",
       "<style scoped>\n",
       "    .dataframe tbody tr th:only-of-type {\n",
       "        vertical-align: middle;\n",
       "    }\n",
       "\n",
       "    .dataframe tbody tr th {\n",
       "        vertical-align: top;\n",
       "    }\n",
       "\n",
       "    .dataframe thead tr th {\n",
       "        text-align: left;\n",
       "    }\n",
       "\n",
       "    .dataframe thead tr:last-of-type th {\n",
       "        text-align: right;\n",
       "    }\n",
       "</style>\n",
       "<table border=\"1\" class=\"dataframe\">\n",
       "  <thead>\n",
       "    <tr>\n",
       "      <th></th>\n",
       "      <th colspan=\"5\" halign=\"left\">Tumor Volume (mm3)</th>\n",
       "    </tr>\n",
       "    <tr>\n",
       "      <th></th>\n",
       "      <th>mean</th>\n",
       "      <th>median</th>\n",
       "      <th>var</th>\n",
       "      <th>std</th>\n",
       "      <th>sem</th>\n",
       "    </tr>\n",
       "    <tr>\n",
       "      <th>Drug Regimen</th>\n",
       "      <th></th>\n",
       "      <th></th>\n",
       "      <th></th>\n",
       "      <th></th>\n",
       "      <th></th>\n",
       "    </tr>\n",
       "  </thead>\n",
       "  <tbody>\n",
       "    <tr>\n",
       "      <th>Capomulin</th>\n",
       "      <td>40.675741</td>\n",
       "      <td>41.557809</td>\n",
       "      <td>24.947764</td>\n",
       "      <td>4.994774</td>\n",
       "      <td>0.329346</td>\n",
       "    </tr>\n",
       "    <tr>\n",
       "      <th>Ceftamin</th>\n",
       "      <td>52.591172</td>\n",
       "      <td>51.776157</td>\n",
       "      <td>39.290177</td>\n",
       "      <td>6.268188</td>\n",
       "      <td>0.469821</td>\n",
       "    </tr>\n",
       "    <tr>\n",
       "      <th>Infubinol</th>\n",
       "      <td>52.884795</td>\n",
       "      <td>51.820584</td>\n",
       "      <td>43.128684</td>\n",
       "      <td>6.567243</td>\n",
       "      <td>0.492236</td>\n",
       "    </tr>\n",
       "    <tr>\n",
       "      <th>Ketapril</th>\n",
       "      <td>55.235638</td>\n",
       "      <td>53.698743</td>\n",
       "      <td>68.553577</td>\n",
       "      <td>8.279709</td>\n",
       "      <td>0.603860</td>\n",
       "    </tr>\n",
       "    <tr>\n",
       "      <th>Naftisol</th>\n",
       "      <td>54.331565</td>\n",
       "      <td>52.509285</td>\n",
       "      <td>66.173479</td>\n",
       "      <td>8.134708</td>\n",
       "      <td>0.596466</td>\n",
       "    </tr>\n",
       "    <tr>\n",
       "      <th>Placebo</th>\n",
       "      <td>54.033581</td>\n",
       "      <td>52.288934</td>\n",
       "      <td>61.168083</td>\n",
       "      <td>7.821003</td>\n",
       "      <td>0.581331</td>\n",
       "    </tr>\n",
       "    <tr>\n",
       "      <th>Propriva</th>\n",
       "      <td>52.382993</td>\n",
       "      <td>50.783528</td>\n",
       "      <td>43.220205</td>\n",
       "      <td>6.574208</td>\n",
       "      <td>0.526358</td>\n",
       "    </tr>\n",
       "    <tr>\n",
       "      <th>Ramicane</th>\n",
       "      <td>40.216745</td>\n",
       "      <td>40.673236</td>\n",
       "      <td>23.486704</td>\n",
       "      <td>4.846308</td>\n",
       "      <td>0.320955</td>\n",
       "    </tr>\n",
       "    <tr>\n",
       "      <th>Stelasyn</th>\n",
       "      <td>54.233149</td>\n",
       "      <td>52.431737</td>\n",
       "      <td>59.450562</td>\n",
       "      <td>7.710419</td>\n",
       "      <td>0.573111</td>\n",
       "    </tr>\n",
       "    <tr>\n",
       "      <th>Zoniferol</th>\n",
       "      <td>53.236507</td>\n",
       "      <td>51.818479</td>\n",
       "      <td>48.533355</td>\n",
       "      <td>6.966589</td>\n",
       "      <td>0.516398</td>\n",
       "    </tr>\n",
       "  </tbody>\n",
       "</table>\n",
       "</div>"
      ],
      "text/plain": [
       "             Tumor Volume (mm3)                                          \n",
       "                           mean     median        var       std       sem\n",
       "Drug Regimen                                                             \n",
       "Capomulin             40.675741  41.557809  24.947764  4.994774  0.329346\n",
       "Ceftamin              52.591172  51.776157  39.290177  6.268188  0.469821\n",
       "Infubinol             52.884795  51.820584  43.128684  6.567243  0.492236\n",
       "Ketapril              55.235638  53.698743  68.553577  8.279709  0.603860\n",
       "Naftisol              54.331565  52.509285  66.173479  8.134708  0.596466\n",
       "Placebo               54.033581  52.288934  61.168083  7.821003  0.581331\n",
       "Propriva              52.382993  50.783528  43.220205  6.574208  0.526358\n",
       "Ramicane              40.216745  40.673236  23.486704  4.846308  0.320955\n",
       "Stelasyn              54.233149  52.431737  59.450562  7.710419  0.573111\n",
       "Zoniferol             53.236507  51.818479  48.533355  6.966589  0.516398"
      ]
     },
     "execution_count": 8,
     "metadata": {},
     "output_type": "execute_result"
    }
   ],
   "source": [
    "# Generate a summary statistics table of mean, median, variance, standard deviation,\n",
    "# and SEM of the tumor volume for each regimen\n",
    "\n",
    "# This method produces everything in a single groupby function.\n",
    "summary_stats = clean_study[['Drug Regimen','Tumor Volume (mm3)']].groupby(['Drug Regimen']).agg({\n",
    "    'Tumor Volume (mm3)': ['mean', 'median', 'var','std','sem']})\n",
    "summary_stats"
   ]
  },
  {
   "cell_type": "markdown",
   "metadata": {},
   "source": [
    "## Bar Plots"
   ]
  },
  {
   "cell_type": "code",
   "execution_count": 9,
   "metadata": {},
   "outputs": [
    {
     "data": {
      "text/plain": [
       "<matplotlib.axes._subplots.AxesSubplot at 0x299b0f4e6d0>"
      ]
     },
     "execution_count": 9,
     "metadata": {},
     "output_type": "execute_result"
    },
    {
     "data": {
      "image/png": "[encoded data removed]",
      "text/plain": [
       "<Figure size 720x360 with 1 Axes>"
      ]
     },
     "metadata": {
      "needs_background": "light"
     },
     "output_type": "display_data"
    }
   ],
   "source": [
    "# Generate a bar plot showing the number of mice per time point for each treatment \n",
    "# throughout the course of the study using pandas.\n",
    "\n",
    "# create a new table with counts of Mouse ID grouped by Drug Regimen and Timepoint\n",
    "mice_per_timepoint = clean_study[['Drug Regimen','Timepoint','Mouse ID']].groupby(\n",
    "                                            ['Drug Regimen','Timepoint']).count()\n",
    "# remane Mouse ID to Number of Mice per Timepoint\n",
    "mice_per_timepoint = mice_per_timepoint.rename(columns={\"Mouse ID\":'Number of Mice at Timepoint'})\n",
    "\n",
    "# unstack the table to improve visualization of the bar plot\n",
    "mice_per_timepoint_unstack = mice_per_timepoint.unstack(level=1)\n",
    "\n",
    "# create and label the plot\n",
    "df_bar_chart = mice_per_timepoint_unstack.plot(kind='bar', figsize=(10,5),\n",
    "                                        title='Number Of Mice Per Timepoint For Each Treatment')\n",
    "df_bar_chart.set_ylabel('Number of Mice')\n",
    "df_bar_chart.legend(bbox_to_anchor=(1.05,1),title='Timepoints')\n",
    "df_bar_chart     "
   ]
  },
  {
   "cell_type": "code",
   "execution_count": 10,
   "metadata": {},
   "outputs": [],
   "source": [
    "# Generate a bar plot showing the number of mice per time point for each treatment\n",
    "# throughout the course of the study using pyplot.\n",
    "# x_axis = [x for x in range(len(mice_per_timepoint['Number of Mice at Timepoint']))]\n",
    "# labels = mice_per_timepoint['Number of Mice at Timepoint'].keys()\n",
    "# plt.figure(figsize=(15,5))\n",
    "# plt.bar(x_axis,mice_per_timepoint['Number of Mice at Timepoint'])\n",
    "# plt.xticks(x_axis,labels,rotation=90)\n",
    "# plt.ylabel(\"Number of Mice\")\n",
    "# plt.xlabel(\"Drug Regimen and Timepoint\")\n",
    "# plt.show()"
   ]
  },
  {
   "cell_type": "code",
   "execution_count": 11,
   "metadata": {},
   "outputs": [],
   "source": [
    "# drug_regimen = mice_per_timepoint_unstack.index\n",
    "# drug_regimen = mice_per_timepoint_unstack.index\n",
    "# bar_width = 0.05\n",
    "# x_axis_1 = [x for x in range(len(mice_per_timepoint_unstack))]\n",
    "# x_axis_2 = [x+0.25 for x in range(len(mice_per_timepoint_unstack))]\n",
    "# x_axis_3 = [x+0.50 for x in range(len(mice_per_timepoint_unstack))]\n",
    "# x_axis_4 = [x+0.75 for x in range(len(mice_per_timepoint_unstack))]\n",
    "\n",
    "# timepoint_0 = mice_per_timepoint_unstack.iloc[:,0]\n",
    "# timepoint_5 = mice_per_timepoint_unstack.iloc[:,1]\n",
    "# timepoint_10 = mice_per_timepoint_unstack.iloc[:,2]\n",
    "# timepoint_15 = mice_per_timepoint_unstack.iloc[:,3]\n",
    "\n",
    "# plt.bar(x_axis_1,timepoint_0,color='red',width=bar_width,label='Timepoint: 0')\n",
    "# plt.bar(x_axis_2,timepoint_5,color='blue',width=bar_width,label='Timepoint: 0')\n",
    "# plt.bar(x_axis_3,timepoint_10,color='green',width=bar_width,label='Timepoint: 0')\n",
    "# plt.bar(x_axis_4,timepoint_15,color='pink',width=bar_width,label='Timepoint: 0')\n",
    "# plt.xticks([x+0.25 for x in range(len(x_axis_1))],drug_regimen,rotation=90)\n",
    "# plt.show()"
   ]
  },
  {
   "cell_type": "code",
   "execution_count": null,
   "metadata": {},
   "outputs": [],
   "source": [
    "# Generate a bar plot showing the number of mice per time point for each treatment\n",
    "# throughout the course of the study using pyplot.\n",
    "colors = ['tab:blue','tab:orange','tab:green','tab:red','tab:purple','tab:brown',\n",
    "          'tab:pink','tab:gray','tab:olive','tab:cyan']\n",
    "\n",
    "drug_regimen = mice_per_timepoint_unstack.index\n",
    "\n",
    "x_axis = [x for x in range(len(mice_per_timepoint_unstack))]\n",
    "\n",
    "bar_width = 0.05\n",
    "w = 0.05\n",
    "\n",
    "for i in range(0,len(drug_regimen)):\n",
    "    x_axis[i] = [x+w for x in range(len(x_axis))]\n",
    "    w += 0.05\n",
    "    \n",
    "plt.figure(figsize=(10,5))\n",
    "\n",
    "for i in range (10):\n",
    "    plt.bar(x_axis[i],mice_per_timepoint_unstack.iloc[:,i],color=colors[i],\n",
    "            width=bar_width)\n",
    "tick_location =[x+((len(drug_regimen)/2)*0.05) for x in range(len(x_axis))]\n",
    "plt.xticks(tick_location,drug_regimen,rotation=90)\n",
    "plt.xlabel('Drug Regimen')\n",
    "plt.ylabel('Number of Mice')\n",
    "plt.title('Number Of Mice Per Timepoint For Each Treatment')\n",
    "plt.legend(mice_per_timepoint_unstack.columns,bbox_to_anchor=(1.05,1),title='Timepoints')\n",
    "plt.show()"
   ]
  },
  {
   "cell_type": "markdown",
   "metadata": {},
   "source": [
    "## Pie Plots"
   ]
  },
  {
   "cell_type": "code",
   "execution_count": null,
   "metadata": {},
   "outputs": [],
   "source": [
    "# Generate a pie plot showing the distribution of female versus male mice using pandas\n",
    "gender_group = clean_study['Sex'].value_counts()\n",
    "pandas_gender_pie = gender_group.plot(kind='pie',startangle=0,title='Mice Gender Distribution')"
   ]
  },
  {
   "cell_type": "code",
   "execution_count": null,
   "metadata": {},
   "outputs": [],
   "source": [
    "# Generate a pie plot showing the distribution of female versus male mice using pyplot\n",
    "labels = gender_group.keys()\n",
    "colors =['tab:blue','tab:orange']\n",
    "sizes = gender_group\n",
    "plt.pie(sizes,labels=labels,colors=colors,startangle=0)\n",
    "plt.ylabel('Sex')\n",
    "plt.title('Mice Gender Distribution')\n",
    "plt.show()"
   ]
  },
  {
   "cell_type": "markdown",
   "metadata": {},
   "source": [
    "## Quartiles, Outliers and Boxplots"
   ]
  },
  {
   "cell_type": "code",
   "execution_count": null,
   "metadata": {},
   "outputs": [],
   "source": [
    "# Calculate the final tumor volume of each mouse across four of the most promising treatment regimens. Calculate the IQR and quantitatively determine if there are any potential outliers. \n"
   ]
  },
  {
   "cell_type": "code",
   "execution_count": null,
   "metadata": {},
   "outputs": [],
   "source": [
    "# Generate a box plot of the final tumor volume of each mouse across four regimens of interest"
   ]
  },
  {
   "cell_type": "markdown",
   "metadata": {},
   "source": [
    "## Line and Scatter Plots"
   ]
  },
  {
   "cell_type": "code",
   "execution_count": null,
   "metadata": {},
   "outputs": [],
   "source": [
    "# Generate a line plot of time point versus tumor volume for a mouse treated with Capomulin\n"
   ]
  },
  {
   "cell_type": "code",
   "execution_count": null,
   "metadata": {},
   "outputs": [],
   "source": [
    "# Generate a scatter plot of mouse weight versus average tumor volume for the Capomulin regimen\n",
    "\n"
   ]
  },
  {
   "cell_type": "markdown",
   "metadata": {},
   "source": [
    "## Correlation and Regression"
   ]
  },
  {
   "cell_type": "code",
   "execution_count": null,
   "metadata": {},
   "outputs": [],
   "source": [
    "# Calculate the correlation coefficient and linear regression model \n",
    "# for mouse weight and average tumor volume for the Capomulin regimen\n"
   ]
  },
  {
   "cell_type": "code",
   "execution_count": null,
   "metadata": {},
   "outputs": [],
   "source": []
  }
 ],
 "metadata": {
  "anaconda-cloud": {},
  "kernelspec": {
   "display_name": "Python [conda env:PythonData] *",
   "language": "python",
   "name": "conda-env-PythonData-py"
  },
  "language_info": {
   "codemirror_mode": {
    "name": "ipython",
    "version": 3
   },
   "file_extension": ".py",
   "mimetype": "text/x-python",
   "name": "python",
   "nbconvert_exporter": "python",
   "pygments_lexer": "ipython3",
   "version": "3.8.3"
  }
 },
 "nbformat": 4,
 "nbformat_minor": 2
}
